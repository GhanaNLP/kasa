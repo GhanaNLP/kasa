{
 "cells": [
  {
   "cell_type": "code",
   "execution_count": null,
   "metadata": {
    "colab": {},
    "colab_type": "code",
    "id": "Ac3U_GygqZRB"
   },
   "outputs": [],
   "source": [
    "#Data Processing\n",
    "import tensorflow as tf\n",
    "import numpy as np\n",
    "import unicodedata\n",
    "import re\n",
    "import os\n",
    "\n",
    "MODE = 'train'\n",
    "NUMBER_OF_DATASET = 600000\n",
    "\n",
    "\n",
    "def read_dataset(number):\n",
    "\n",
    "    english_data = []\n",
    "    with open('/content/drive/My Drive/Dataset/Machine Translation/JW/jw300.en-tw.en') as file:\n",
    "\n",
    "        line = file.readline()\n",
    "        cnt = 1\n",
    "        while line:\n",
    "            english_data.append(line.strip())\n",
    "            line = file.readline()\n",
    "            cnt += 1\n",
    "\n",
    "\n",
    "    twi_data = []\n",
    "    with open('/content/drive/My Drive/Dataset/Machine Translation/JW/jw300.en-tw.tw') as file:\n",
    "\n",
    "        # twi=file.read()\n",
    "        line = file.readline()\n",
    "        cnt = 1\n",
    "        while line:\n",
    "            twi_data.append(line.strip())\n",
    "            line = file.readline()\n",
    "            cnt += 1\n",
    "\n",
    "    return english_data[:number],twi_data[:number]\n",
    "\n",
    "def unicode_to_ascii(s):\n",
    "    return ''.join(\n",
    "        c for c in unicodedata.normalize('NFD', s)\n",
    "        if unicodedata.category(c) != 'Mn')\n",
    "\n",
    "\n",
    "def normalize_eng(s):\n",
    "    s = unicode_to_ascii(s)\n",
    "    s = re.sub(r'([!.?])', r' \\1', s)\n",
    "    s = re.sub(r'[^a-zA-Z.!?]+', r' ', s)\n",
    "    s = re.sub(r'\\s+', r' ', s)\n",
    "    return s\n",
    "\n",
    "def normalize_twi(s):\n",
    "    s = unicode_to_ascii(s)\n",
    "    s = re.sub(r'([!.?])', r' \\1', s)\n",
    "    s = re.sub(r'[^a-zA-Z.ƆɔɛƐ!?’]+', r' ', s)\n",
    "    s = re.sub(r'\\s+', r' ', s)\n",
    "    return s\n",
    "\n",
    "\n",
    "raw_data_en,raw_data_twi = read_dataset(NUMBER_OF_DATASET)\n",
    "raw_data_en = [normalize_eng(data) for data in raw_data_en]\n",
    "raw_data_twi = [normalize_twi(data) for data in raw_data_twi]\n",
    "raw_data_twi_in = ['<start> ' + normalize_twi(data) for data in raw_data_twi]\n",
    "raw_data_twi_out = [normalize_twi(data) + ' <end>' for data in raw_data_twi]\n"
   ]
  },
  {
   "cell_type": "code",
   "execution_count": null,
   "metadata": {
    "colab": {},
    "colab_type": "code",
    "id": "ZzES_bfLqZR0"
   },
   "outputs": [],
   "source": [
    "data=[]\n",
    "for tw in raw_data_twi:\n",
    "\n",
    "    data.append(tw.split())"
   ]
  },
  {
   "cell_type": "code",
   "execution_count": 5,
   "metadata": {
    "colab": {
     "base_uri": "https://localhost:8080/",
     "height": 34
    },
    "colab_type": "code",
    "id": "aUA1E8tLqZST",
    "outputId": "97d9b764-638e-41bc-e9e5-fcb2ec7d8603"
   },
   "outputs": [
    {
     "name": "stdout",
     "output_type": "stream",
     "text": [
      "['Saa', 'bere', 'no', 'na', 'madi', 'mfe', 'asia', '.']\n"
     ]
    }
   ],
   "source": [
    "print(data[10])"
   ]
  },
  {
   "cell_type": "markdown",
   "metadata": {
    "colab_type": "text",
    "id": "ycaFYh5Ov_I1"
   },
   "source": [
    "Word Embedding"
   ]
  },
  {
   "cell_type": "code",
   "execution_count": null,
   "metadata": {
    "colab": {},
    "colab_type": "code",
    "id": "IKl-S8WLqZSj"
   },
   "outputs": [],
   "source": [
    "from gensim.models import Word2Vec\n",
    "\n",
    "word2vec = Word2Vec(data,size=100, window=5, min_count=5, workers=4, sg=0)"
   ]
  },
  {
   "cell_type": "code",
   "execution_count": 7,
   "metadata": {
    "colab": {
     "base_uri": "https://localhost:8080/",
     "height": 451
    },
    "colab_type": "code",
    "id": "bbZmOJT2qZSv",
    "outputId": "f6eebe9a-4d4e-43f6-9d93-2719b9b0c3c8"
   },
   "outputs": [
    {
     "name": "stdout",
     "output_type": "stream",
     "text": [
      "[-3.02108228e-01 -5.11423349e-01 -2.80206561e-01  8.45931292e-01\n",
      "  6.98884428e-01  5.44322252e-01 -4.23561811e-01 -2.80037928e+00\n",
      "  2.42709946e-02 -9.87212360e-01  1.78328073e+00  4.08721656e-01\n",
      " -2.62112498e-01  3.65656912e-01 -4.46317703e-01 -6.58094645e-01\n",
      "  1.95223212e-01  2.41629034e-03  2.72092432e-01  6.46233439e-01\n",
      " -6.73935413e-01  1.77926874e+00  2.56042838e+00 -1.91591513e+00\n",
      " -1.48873761e-01 -2.00097013e+00  1.55741596e+00  4.34711546e-01\n",
      " -1.46766257e+00 -1.10858396e-01 -2.66989648e-01 -1.07600820e+00\n",
      "  2.12532926e+00  2.31148529e+00 -4.82951880e-01 -1.29577577e-01\n",
      " -6.29082471e-02 -2.49587321e+00 -1.06407452e+00  7.39139020e-01\n",
      "  1.59833407e+00 -4.55895096e-01 -1.82318425e+00 -4.71607417e-01\n",
      "  8.43140423e-01  1.08711433e+00 -2.29512811e+00 -3.30472261e-01\n",
      " -7.60259271e-01  1.09654021e+00 -6.43688798e-01  2.42059469e+00\n",
      " -8.38661671e-01  5.33576250e-01 -3.04649413e-01 -1.36728013e+00\n",
      "  3.88576329e-01  3.66262138e-01 -1.36361301e+00  5.38152099e-01\n",
      "  8.19928110e-01  5.62433720e-01  1.11467063e+00  2.54588604e-01\n",
      " -9.81133163e-01  9.28458810e-01 -1.08303328e-03 -7.55654454e-01\n",
      " -1.01981592e+00  7.61021256e-01  6.69474006e-01  9.44823802e-01\n",
      "  3.15867811e-02  1.52384329e+00 -2.66908705e-01 -9.40569341e-01\n",
      " -6.36197329e-01  8.41417551e-01 -2.37370044e-01  2.91114998e+00\n",
      " -1.34568310e+00 -8.65678310e-01 -7.03122318e-01  8.10997725e-01\n",
      " -9.57491398e-02 -7.27960944e-01 -3.78796846e-01 -1.53081274e+00\n",
      " -4.82623100e-01 -2.11679265e-01  1.45576727e+00 -3.01058698e+00\n",
      "  3.87829274e-01  2.08408292e-02 -6.43653274e-01  1.53078303e-01\n",
      "  1.70401126e-01  1.41543376e+00 -1.29434085e+00  1.17672302e-01]\n"
     ]
    }
   ],
   "source": [
    "v1 = word2vec.wv['anwummere']\n",
    "print(v1)"
   ]
  },
  {
   "cell_type": "code",
   "execution_count": 8,
   "metadata": {
    "colab": {
     "base_uri": "https://localhost:8080/",
     "height": 89
    },
    "colab_type": "code",
    "id": "OJU7EkdUqZS4",
    "outputId": "b2650467-5d10-4019-d6e4-5dee416fb7ea"
   },
   "outputs": [
    {
     "name": "stdout",
     "output_type": "stream",
     "text": [
      "[('anɔpa', 0.8642851710319519), ('Kwasida', 0.8127280473709106), ('Memeneda', 0.789888858795166), ('Fida', 0.7833170294761658), ('Dwoda', 0.7535568475723267), ('anadwo', 0.7234207391738892), ('awiabere', 0.7164201736450195), ('dapɛn', 0.6874783039093018), ('nnawɔtwe', 0.6713928580284119), ('Yawda', 0.6454359292984009)]\n"
     ]
    },
    {
     "name": "stderr",
     "output_type": "stream",
     "text": [
      "/usr/local/lib/python3.6/dist-packages/gensim/matutils.py:737: FutureWarning: Conversion of the second argument of issubdtype from `int` to `np.signedinteger` is deprecated. In future, it will be treated as `np.int64 == np.dtype(int).type`.\n",
      "  if np.issubdtype(vec.dtype, np.int):\n"
     ]
    }
   ],
   "source": [
    "sim_words = word2vec.wv.most_similar('anwummere')\n",
    "print(sim_words)"
   ]
  },
  {
   "cell_type": "markdown",
   "metadata": {
    "colab_type": "text",
    "id": "DyR1i3Mhu3HY"
   },
   "source": [
    "Resut of the fasttext word2vec \n",
    "Finding closest word to 'anummere'"
   ]
  },
  {
   "cell_type": "code",
   "execution_count": null,
   "metadata": {
    "colab": {
     "base_uri": "https://localhost:8080/",
     "height": 191
    },
    "colab_type": "code",
    "id": "OCJBknZBqZTA",
    "outputId": "a0bfb0eb-fdff-42be-a97f-c27b21da4495"
   },
   "outputs": [
    {
     "name": "stdout",
     "output_type": "stream",
     "text": [
      "('anɔpa', 0.8579288125038147)\n",
      "('Kwasida', 0.8060927987098694)\n",
      "('Dwoda', 0.7854021787643433)\n",
      "('Memeneda', 0.7843155860900879)\n",
      "('Fida', 0.7775585651397705)\n",
      "('anadwo', 0.7378968596458435)\n",
      "('Wukuda', 0.6966943144798279)\n",
      "('awiabere', 0.6785082817077637)\n",
      "('dapɛn', 0.6683111786842346)\n",
      "('nnawɔtwe', 0.6595495343208313)\n"
     ]
    }
   ],
   "source": [
    "for sw in sim_words:\n",
    "    print(sw)"
   ]
  },
  {
   "cell_type": "markdown",
   "metadata": {
    "colab_type": "text",
    "id": "kfKRwaI-n_je"
   },
   "source": [
    "Saving Word2Vec Twi embedding\n"
   ]
  },
  {
   "cell_type": "code",
   "execution_count": null,
   "metadata": {
    "colab": {
     "base_uri": "https://localhost:8080/",
     "height": 72
    },
    "colab_type": "code",
    "id": "Y5QvkbnLn-Gx",
    "outputId": "9b08ef4f-da89-42e4-c4d8-5cb48d84bd6b"
   },
   "outputs": [],
   "source": [
    "word2vec.save(\"/content/drive/My Drive/Dataset/Machine Translation/Word Embeddng/twi_word2vec.model\")"
   ]
  },
  {
   "cell_type": "code",
   "execution_count": null,
   "metadata": {
    "colab": {
     "base_uri": "https://localhost:8080/",
     "height": 72
    },
    "colab_type": "code",
    "id": "hLr80Pe6pD_j",
    "outputId": "f5192398-4d68-4e17-84a3-f6d58e05ab96"
   },
   "outputs": [],
   "source": [
    "save_word2vec = Word2Vec.load(\"/content/drive/My Drive/Dataset/Machine Translation/Word Embeddng/twi_word2vec.model\")"
   ]
  },
  {
   "cell_type": "code",
   "execution_count": 14,
   "metadata": {
    "colab": {
     "base_uri": "https://localhost:8080/",
     "height": 312
    },
    "colab_type": "code",
    "id": "S_eAXaPCqsdD",
    "outputId": "cd916852-9b5b-47b5-c787-2a20a6e970d6"
   },
   "outputs": [
    {
     "name": "stdout",
     "output_type": "stream",
     "text": [
      "[ 0.09814678 -0.47086534 -1.0886327   0.76056206 -0.23008436  0.56529313\n",
      "  0.3636936  -1.8175865   0.56759065  0.22939402  1.4333031   0.10764355\n",
      "  0.5942992   0.2456994   0.33473226 -0.70669734 -0.47454154 -0.5335441\n",
      "  0.79865813  0.2055322  -0.06610137  0.3149126   1.3602386  -1.2562885\n",
      "  0.01059344 -1.1647192   1.0915511   0.48532975 -0.8225146  -0.08122128\n",
      "  0.41900188 -1.2535757   0.618522    1.5174849  -0.30651623  0.068088\n",
      " -0.6528791  -0.7190325  -0.9737757   0.03496306  1.0493983  -0.92362654\n",
      " -0.70156026 -0.2882814   0.54053     0.7741335  -1.0675614   0.5790848\n",
      "  0.26060465  0.8651442  -0.93581694  1.2531716  -0.9834247   0.05924508\n",
      " -1.3490509  -0.8528174   0.05819632  0.32126442 -0.5474713   0.10335269\n",
      "  0.5689112   0.38910452  0.5719155   0.6662188  -0.44024703  0.17282301\n",
      "  0.18826048 -0.84412855 -1.2403615   0.04742159  0.5664328   0.26271135\n",
      "  0.4629262   0.4349204  -0.16958193 -1.0708221  -0.24036497  0.32782525\n",
      "  0.57185537  1.5962329  -0.36465415 -1.4278779  -0.2232267   0.67728615\n",
      "  0.555139   -0.0470254  -0.03638744 -0.86063457 -0.4491473   0.22460191\n",
      " -0.5829603  -1.6064221  -0.22812444 -0.6083241   0.32268226 -0.36316773\n",
      "  0.06277858  0.7656986  -0.25280628  0.85896325]\n"
     ]
    }
   ],
   "source": [
    "v1 = save_word2vec.wv['Memeneda']\n",
    "print(v1)"
   ]
  },
  {
   "cell_type": "code",
   "execution_count": 15,
   "metadata": {
    "colab": {
     "base_uri": "https://localhost:8080/",
     "height": 89
    },
    "colab_type": "code",
    "id": "1hSWfs_nq1We",
    "outputId": "522b5935-db47-4284-f475-b9de817c5029"
   },
   "outputs": [
    {
     "name": "stdout",
     "output_type": "stream",
     "text": [
      "[('Fida', 0.9203071594238281), ('Dwoda', 0.8830970525741577), ('Kwasida', 0.8807557225227356), ('Wukuda', 0.8627820014953613), ('Yawda', 0.8598405718803406), ('Benada', 0.8273340463638306), ('anɔpa', 0.7965490818023682), ('nnɔnsia', 0.7925847768783569), ('anwummere', 0.789888858795166), ('awiabere', 0.7672605514526367)]\n"
     ]
    },
    {
     "name": "stderr",
     "output_type": "stream",
     "text": [
      "/usr/local/lib/python3.6/dist-packages/gensim/matutils.py:737: FutureWarning: Conversion of the second argument of issubdtype from `int` to `np.signedinteger` is deprecated. In future, it will be treated as `np.int64 == np.dtype(int).type`.\n",
      "  if np.issubdtype(vec.dtype, np.int):\n"
     ]
    }
   ],
   "source": [
    "sim_words = save_word2vec.wv.most_similar('Memeneda')\n",
    "print(sim_words)"
   ]
  },
  {
   "cell_type": "code",
   "execution_count": 16,
   "metadata": {
    "colab": {
     "base_uri": "https://localhost:8080/",
     "height": 191
    },
    "colab_type": "code",
    "id": "9QZAzk3arAPg",
    "outputId": "a053d663-7c9d-4b87-fad7-94838f6a9ef0"
   },
   "outputs": [
    {
     "name": "stdout",
     "output_type": "stream",
     "text": [
      "('Fida', 0.9203071594238281)\n",
      "('Dwoda', 0.8830970525741577)\n",
      "('Kwasida', 0.8807557225227356)\n",
      "('Wukuda', 0.8627820014953613)\n",
      "('Yawda', 0.8598405718803406)\n",
      "('Benada', 0.8273340463638306)\n",
      "('anɔpa', 0.7965490818023682)\n",
      "('nnɔnsia', 0.7925847768783569)\n",
      "('anwummere', 0.789888858795166)\n",
      "('awiabere', 0.7672605514526367)\n"
     ]
    }
   ],
   "source": [
    "for sw in sim_words:\n",
    "    print(sw)"
   ]
  },
  {
   "cell_type": "code",
   "execution_count": null,
   "metadata": {
    "colab": {},
    "colab_type": "code",
    "id": "eFpTzJ5PrPnr"
   },
   "outputs": [],
   "source": []
  },
  {
   "cell_type": "code",
   "execution_count": null,
   "metadata": {
    "colab": {},
    "colab_type": "code",
    "id": "fawsfqZxqZTO"
   },
   "outputs": [],
   "source": [
    "from gensim.models import FastText\n",
    "model_ted = FastText(data, size=100, window=5, min_count=5, workers=4,sg=1)"
   ]
  },
  {
   "cell_type": "markdown",
   "metadata": {
    "colab_type": "text",
    "id": "hgMbU5ndvS4L"
   },
   "source": [
    "Word vector for 'anwummere' with FastText"
   ]
  },
  {
   "cell_type": "code",
   "execution_count": 18,
   "metadata": {
    "colab": {
     "base_uri": "https://localhost:8080/",
     "height": 312
    },
    "colab_type": "code",
    "id": "TDjQI5fevLlC",
    "outputId": "0575b6e3-f4ce-4561-c924-2e974a680680"
   },
   "outputs": [
    {
     "name": "stdout",
     "output_type": "stream",
     "text": [
      "[ 0.08833892  0.4672665  -0.03897214 -0.3714508   0.04497773  0.3351579\n",
      " -0.22558862 -0.28798097 -0.45125103 -0.27023658  0.33351225 -0.16414806\n",
      "  0.31226748  0.26095557  0.49016955  0.14277856 -0.40278685 -0.19046697\n",
      " -0.2254331  -0.05175292 -0.04738987 -0.03374953  0.4161842   0.1478125\n",
      "  0.7639802  -0.6695701   0.50591546  0.05955174  0.62273496  0.16343455\n",
      " -0.3872739   0.291367   -0.48056     0.12329191  0.35422686  0.264374\n",
      " -0.13997608 -0.5822593  -0.14982583 -0.8555109   0.48276365  0.40872934\n",
      " -0.478253   -0.35141125 -0.22311595 -0.1479415   0.144372   -0.12039503\n",
      " -0.40794054 -0.00728954 -0.35072696 -0.02505915 -0.24937958 -0.11879344\n",
      " -0.2486037  -0.00606948  0.3643913  -0.20941639  0.3415597   0.00996211\n",
      "  0.3312506  -0.6263491   0.18844904  0.31942967  0.40292737 -0.39518932\n",
      " -0.06202329 -0.14704129  0.29246056 -0.02004974 -0.09644696 -0.18137102\n",
      " -0.02271958 -0.43796733 -0.6451615  -0.24860838 -0.717335   -0.03619376\n",
      " -0.37725472 -0.38228583  0.6978233   0.31846848 -0.02847165  0.22657101\n",
      " -0.3242941   0.12100583  0.091705    0.2646924   0.5825302  -0.21591501\n",
      "  0.21870948 -0.17312866 -0.15785556 -0.07683276  0.88652354  0.41954446\n",
      " -0.4455557  -0.51702434 -0.33256784 -0.81217533]\n"
     ]
    }
   ],
   "source": [
    "v1 = model_ted.wv['anwummere']\n",
    "print(v1)"
   ]
  },
  {
   "cell_type": "code",
   "execution_count": 19,
   "metadata": {
    "colab": {
     "base_uri": "https://localhost:8080/",
     "height": 72
    },
    "colab_type": "code",
    "id": "FNzt7zHYqZTZ",
    "outputId": "b4e81a2e-25c8-4983-a6b7-89be9c9eb7fc"
   },
   "outputs": [
    {
     "name": "stderr",
     "output_type": "stream",
     "text": [
      "/usr/local/lib/python3.6/dist-packages/gensim/matutils.py:737: FutureWarning: Conversion of the second argument of issubdtype from `int` to `np.signedinteger` is deprecated. In future, it will be treated as `np.int64 == np.dtype(int).type`.\n",
      "  if np.issubdtype(vec.dtype, np.int):\n"
     ]
    }
   ],
   "source": [
    "ft_sim_words= model_ted.wv.most_similar(\"anwummere\")"
   ]
  },
  {
   "cell_type": "markdown",
   "metadata": {
    "colab_type": "text",
    "id": "ieSVrCPRulSl"
   },
   "source": [
    "Resut of the word2vec \n",
    "Finding closest word to 'anummere'"
   ]
  },
  {
   "cell_type": "code",
   "execution_count": 20,
   "metadata": {
    "colab": {
     "base_uri": "https://localhost:8080/",
     "height": 191
    },
    "colab_type": "code",
    "id": "oRPaeKfkub8F",
    "outputId": "1047f4ba-cbfa-4209-91d1-7c35c57e323c"
   },
   "outputs": [
    {
     "name": "stdout",
     "output_type": "stream",
     "text": [
      "('anwummerɛ', 0.9340226054191589)\n",
      "('anɔpa', 0.8562817573547363)\n",
      "('Anwummere', 0.8505927324295044)\n",
      "('anɔpawia', 0.8229470252990723)\n",
      "('awiabere', 0.8069194555282593)\n",
      "('anɔpahema', 0.7989680767059326)\n",
      "('Dwoda', 0.777945339679718)\n",
      "('anwummeduan', 0.7683749198913574)\n",
      "('anɔpatutuutu', 0.7428541779518127)\n",
      "('anadwo', 0.7395283579826355)\n"
     ]
    }
   ],
   "source": [
    "for sw in ft_sim_words:\n",
    "    print(sw)"
   ]
  },
  {
   "cell_type": "code",
   "execution_count": null,
   "metadata": {
    "colab": {
     "base_uri": "https://localhost:8080/",
     "height": 72
    },
    "colab_type": "code",
    "id": "RsLufBYbrUuu",
    "outputId": "3622bbd5-70fd-4761-9b07-6abcb9dd1838"
   },
   "outputs": [],
   "source": [
    "model_ted.save(\"/content/drive/My Drive/Dataset/Machine Translation/Word Embeddng/twi_ft_embedding.model\")"
   ]
  },
  {
   "cell_type": "code",
   "execution_count": null,
   "metadata": {
    "colab": {
     "base_uri": "https://localhost:8080/",
     "height": 72
    },
    "colab_type": "code",
    "id": "7CA0Y8lAry2y",
    "outputId": "91cf95f7-cce4-43bd-960b-fc6f1a342472"
   },
   "outputs": [],
   "source": [
    "save_ft = FastText.load(\"/content/drive/My Drive/Dataset/Machine Translation/Word Embeddng/twi_ft_embedding.model\")"
   ]
  },
  {
   "cell_type": "code",
   "execution_count": 25,
   "metadata": {
    "colab": {
     "base_uri": "https://localhost:8080/",
     "height": 312
    },
    "colab_type": "code",
    "id": "Ng1uKNAZtCv8",
    "outputId": "17e51da2-b6c0-4501-a7a3-05db75d74fcc"
   },
   "outputs": [
    {
     "name": "stdout",
     "output_type": "stream",
     "text": [
      "[ 0.17775519 -0.16248341 -0.17602317  0.02188401  0.1346676   0.45560387\n",
      "  0.37168467 -0.4902866  -0.19079266 -0.3223142  -0.09916418 -0.00553188\n",
      "  0.1711897   0.17218237  0.2439265   0.05865918 -0.2670257   0.11555412\n",
      "  0.34119228  0.09123039 -0.02492583  0.39415005  0.0992483   0.14174348\n",
      "  0.60150325 -0.44733164  0.04966075  0.47378287  0.4546642  -0.01678039\n",
      "  0.02998377  0.5455014  -0.49990737 -0.13501075  0.03426073  0.56040066\n",
      " -0.0846354  -0.7477143  -0.2955511  -0.6027971   0.77299047  0.18465528\n",
      " -0.3122549  -0.13991463 -0.36172938 -0.70094985  0.27987063 -0.01200911\n",
      " -0.19428265 -0.4464405  -0.19235252  0.24047776 -0.14663887  0.18471934\n",
      " -0.44912246  0.18751341  0.7730099  -0.04739955  0.4518396  -0.25333616\n",
      " -0.10481028 -0.3581976  -0.27015775  0.691856   -0.11553828 -0.6183445\n",
      "  0.25352818 -0.3368721   0.28366342 -0.00396483 -0.3562046  -0.25866047\n",
      " -0.04860738  0.07705235 -0.37907806 -0.5010641  -0.46434158 -0.00702557\n",
      " -0.3003303  -0.72004914  0.36646372  0.17740403 -0.30090794 -0.11273026\n",
      " -0.01938767 -0.01024873  0.22423735  0.47199214  0.42157194 -0.4094915\n",
      " -0.10275053 -0.22381486  0.22572182 -0.02041391  0.573729    0.2700851\n",
      " -0.62270933 -0.685651   -0.00179071 -1.1625403 ]\n"
     ]
    }
   ],
   "source": [
    "v1 = save_ft.wv['Memeneda']\n",
    "print(v1)"
   ]
  },
  {
   "cell_type": "code",
   "execution_count": 26,
   "metadata": {
    "colab": {
     "base_uri": "https://localhost:8080/",
     "height": 89
    },
    "colab_type": "code",
    "id": "Qs2XAej2tYtm",
    "outputId": "6b5817d2-35f0-4556-88c9-b141e1855943"
   },
   "outputs": [
    {
     "name": "stdout",
     "output_type": "stream",
     "text": [
      "[('Fida', 0.8710094690322876), ('Kwasida', 0.8509382009506226), ('Dwoda', 0.8335052728652954), ('Yawda', 0.8219196796417236), ('Wukuda', 0.8033598065376282), ('Anɔpa', 0.8001957535743713), ('anɔpa', 0.7739479541778564), ('anɔpawia', 0.7632300853729248), ('Benada', 0.7523362636566162), ('nnɔnabien', 0.7266308665275574)]\n"
     ]
    },
    {
     "name": "stderr",
     "output_type": "stream",
     "text": [
      "/usr/local/lib/python3.6/dist-packages/gensim/matutils.py:737: FutureWarning: Conversion of the second argument of issubdtype from `int` to `np.signedinteger` is deprecated. In future, it will be treated as `np.int64 == np.dtype(int).type`.\n",
      "  if np.issubdtype(vec.dtype, np.int):\n"
     ]
    }
   ],
   "source": [
    "sim_words = save_ft.wv.most_similar('Memeneda')\n",
    "print(sim_words)"
   ]
  },
  {
   "cell_type": "code",
   "execution_count": 27,
   "metadata": {
    "colab": {
     "base_uri": "https://localhost:8080/",
     "height": 191
    },
    "colab_type": "code",
    "id": "AmXkWZE4tboX",
    "outputId": "2eb9b78c-8173-4186-edc3-60d8bbb78152"
   },
   "outputs": [
    {
     "name": "stdout",
     "output_type": "stream",
     "text": [
      "('Fida', 0.8710094690322876)\n",
      "('Kwasida', 0.8509382009506226)\n",
      "('Dwoda', 0.8335052728652954)\n",
      "('Yawda', 0.8219196796417236)\n",
      "('Wukuda', 0.8033598065376282)\n",
      "('Anɔpa', 0.8001957535743713)\n",
      "('anɔpa', 0.7739479541778564)\n",
      "('anɔpawia', 0.7632300853729248)\n",
      "('Benada', 0.7523362636566162)\n",
      "('nnɔnabien', 0.7266308665275574)\n"
     ]
    }
   ],
   "source": [
    "for sw in sim_words:\n",
    "    print(sw)"
   ]
  },
  {
   "cell_type": "code",
   "execution_count": null,
   "metadata": {
    "colab": {},
    "colab_type": "code",
    "id": "pFznkJa4tkqg"
   },
   "outputs": [],
   "source": []
  }
 ],
 "metadata": {
  "accelerator": "GPU",
  "colab": {
   "name": "twi_word_embedding.ipynb",
   "provenance": []
  },
  "kernelspec": {
   "display_name": "Python 3",
   "language": "python",
   "name": "python3"
  },
  "language_info": {
   "codemirror_mode": {
    "name": "ipython",
    "version": 3
   },
   "file_extension": ".py",
   "mimetype": "text/x-python",
   "name": "python",
   "nbconvert_exporter": "python",
   "pygments_lexer": "ipython3",
   "version": "3.7.3"
  }
 },
 "nbformat": 4,
 "nbformat_minor": 4
}
