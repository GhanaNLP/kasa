{
 "cells": [
  {
   "cell_type": "code",
   "execution_count": null,
   "metadata": {
    "colab": {},
    "colab_type": "code",
    "id": "Ac3U_GygqZRB"
   },
   "outputs": [],
   "source": [
    "#Data Processing\n",
    "import tensorflow as tf\n",
    "import numpy as np\n",
    "import unicodedata\n",
    "import re\n",
    "import os\n",
    "\n",
    "MODE = 'train'\n",
    "NUMBER_OF_DATASET = 60000\n",
    "\n",
    "\n",
    "def read_dataset(number):\n",
    "\n",
    "    english_data = []\n",
    "    with open('/content/drive/My Drive/Dataset/Machine Translation/JW/jw300.en-tw.en') as file:\n",
    "\n",
    "        line = file.readline()\n",
    "        cnt = 1\n",
    "        while line:\n",
    "            english_data.append(line.strip())\n",
    "            line = file.readline()\n",
    "            cnt += 1\n",
    "\n",
    "\n",
    "    twi_data = []\n",
    "    with open('/content/drive/My Drive/Dataset/Machine Translation/JW/jw300.en-tw.tw') as file:\n",
    "\n",
    "        # twi=file.read()\n",
    "        line = file.readline()\n",
    "        cnt = 1\n",
    "        while line:\n",
    "            twi_data.append(line.strip())\n",
    "            line = file.readline()\n",
    "            cnt += 1\n",
    "\n",
    "#     return english_data[:number],twi_data[:number]\n",
    "    return english_data,twi_data\n",
    "\n",
    "def unicode_to_ascii(s):\n",
    "    return ''.join(\n",
    "        c for c in unicodedata.normalize('NFD', s)\n",
    "        if unicodedata.category(c) != 'Mn')\n",
    "\n",
    "\n",
    "def normalize_eng(s):\n",
    "    s = unicode_to_ascii(s)\n",
    "    s = re.sub(r'([!.?])', r' \\1', s)\n",
    "    s = re.sub(r'[^a-zA-Z.!?]+', r' ', s)\n",
    "    s = re.sub(r'\\s+', r' ', s)\n",
    "    return s\n",
    "\n",
    "def normalize_twi(s):\n",
    "    s = unicode_to_ascii(s)\n",
    "    s = re.sub(r'([!.?])', r' \\1', s)\n",
    "    s = re.sub(r'[^a-zA-Z.ƆɔɛƐ!?’]+', r' ', s)\n",
    "    s = re.sub(r'\\s+', r' ', s)\n",
    "    return s\n",
    "\n",
    "\n",
    "raw_data_en,raw_data_twi = read_dataset(NUMBER_OF_DATASET)\n",
    "raw_data_en = [normalize_eng(data) for data in raw_data_en]\n",
    "raw_data_twi = [normalize_twi(data) for data in raw_data_twi]\n",
    "raw_data_twi_in = ['<start> ' + normalize_twi(data) for data in raw_data_twi]\n",
    "raw_data_twi_out = [normalize_twi(data) + ' <end>' for data in raw_data_twi]\n"
   ]
  },
  {
   "cell_type": "code",
   "execution_count": null,
   "metadata": {
    "colab": {},
    "colab_type": "code",
    "id": "TYFV7sWbqZRc"
   },
   "outputs": [],
   "source": [
    "# for en in raw_data_en:\n",
    "#     print(en)"
   ]
  },
  {
   "cell_type": "code",
   "execution_count": null,
   "metadata": {
    "colab": {},
    "colab_type": "code",
    "id": "ZzES_bfLqZR0"
   },
   "outputs": [],
   "source": [
    "data=[]\n",
    "for tw in raw_data_twi:\n",
    "#     print(tw)\n",
    "    \n",
    "#     print(tw.split())\n",
    "    data.append(tw.split())"
   ]
  },
  {
   "cell_type": "code",
   "execution_count": 3,
   "metadata": {
    "colab": {
     "base_uri": "https://localhost:8080/",
     "height": 34
    },
    "colab_type": "code",
    "id": "aUA1E8tLqZST",
    "outputId": "d87073fc-8de9-41e3-9dcc-c5a9f1bb698b"
   },
   "outputs": [
    {
     "name": "stdout",
     "output_type": "stream",
     "text": [
      "['Saa', 'bere', 'no', 'na', 'madi', 'mfe', 'asia', '.']\n"
     ]
    }
   ],
   "source": [
    "print(data[10])"
   ]
  },
  {
   "cell_type": "markdown",
   "metadata": {
    "colab_type": "text",
    "id": "ycaFYh5Ov_I1"
   },
   "source": [
    "Word Embedding"
   ]
  },
  {
   "cell_type": "code",
   "execution_count": null,
   "metadata": {
    "colab": {},
    "colab_type": "code",
    "id": "IKl-S8WLqZSj"
   },
   "outputs": [],
   "source": [
    "from gensim.models import Word2Vec\n",
    "\n",
    "word2vec = Word2Vec(data,size=100, window=5, min_count=5, workers=4, sg=0)"
   ]
  },
  {
   "cell_type": "code",
   "execution_count": 5,
   "metadata": {
    "colab": {
     "base_uri": "https://localhost:8080/",
     "height": 451
    },
    "colab_type": "code",
    "id": "bbZmOJT2qZSv",
    "outputId": "026c6070-8840-4e68-d56a-515a98adcc0f"
   },
   "outputs": [
    {
     "name": "stdout",
     "output_type": "stream",
     "text": [
      "[ 2.1450815e+00  8.9108557e-01  1.6662674e+00 -1.6842885e+00\n",
      "  5.0204384e-01 -4.1977216e-02 -4.2946893e-01  1.7703531e+00\n",
      "  6.6312653e-01  2.4645247e-01 -1.4746124e-01  3.4167609e-01\n",
      " -7.8933614e-01 -3.1631927e+00  4.9950540e-01 -5.4621476e-01\n",
      " -7.9797447e-01  2.2335255e-01  6.1906773e-01  5.2006191e-01\n",
      " -1.6814781e+00  1.4906821e+00 -5.7220560e-01 -3.4247413e-01\n",
      "  6.0304558e-01  1.1826857e+00 -1.7113807e+00  1.5809261e+00\n",
      "  1.0062839e+00 -2.4456164e-01  1.0857027e+00 -4.1134614e-01\n",
      "  1.4136289e+00 -1.5413302e+00  1.9759789e+00  1.0196414e+00\n",
      "  1.5324316e+00  5.4570127e-01 -1.6464967e+00  7.8675300e-01\n",
      "  4.1119114e-01  1.2268437e+00  8.5766596e-01 -5.1971350e-04\n",
      "  8.0683732e-01  3.6863372e-01  1.3127213e+00  8.6391902e-01\n",
      "  9.9525705e-02 -1.9611298e-01  1.0855489e+00 -1.0309633e+00\n",
      "  4.6374911e-01  3.5859790e-02  2.0032924e-02 -1.4743532e-01\n",
      "  3.5803822e-01 -1.5746495e-01 -1.3131614e+00  1.0815179e+00\n",
      " -7.4481118e-01  4.1558734e-01 -1.4248459e-01  6.2942922e-02\n",
      " -1.1926402e-01 -1.8057631e+00  7.7750549e-02 -2.4856827e+00\n",
      " -1.8504305e-01 -5.5832213e-01 -5.0122505e-01  1.0562078e+00\n",
      "  8.6364794e-01 -3.2130653e-01 -4.1865060e-01 -3.7355343e-01\n",
      "  1.5982479e-01 -2.5445735e+00  1.4184511e+00  2.3659782e+00\n",
      "  7.2069854e-01 -1.5466490e+00 -1.2870238e+00 -2.0594153e+00\n",
      "  5.4849982e-01 -1.1401463e+00  2.0326638e+00  3.4543899e-01\n",
      "  1.8391982e+00  6.1046112e-01  1.7700337e+00  1.6286201e+00\n",
      " -3.5397176e-02  6.6667724e-01  2.0563743e+00  3.8935998e-01\n",
      "  9.8723382e-02  6.3472614e-02 -1.2887921e+00 -2.8934543e+00]\n"
     ]
    }
   ],
   "source": [
    "v1 = word2vec.wv['anwummere']\n",
    "print(v1)"
   ]
  },
  {
   "cell_type": "code",
   "execution_count": 6,
   "metadata": {
    "colab": {
     "base_uri": "https://localhost:8080/",
     "height": 89
    },
    "colab_type": "code",
    "id": "OJU7EkdUqZS4",
    "outputId": "3af0d053-26dd-4101-e551-2faf957c53b3"
   },
   "outputs": [
    {
     "name": "stdout",
     "output_type": "stream",
     "text": [
      "[('anɔpa', 0.8579288125038147), ('Kwasida', 0.8060927987098694), ('Dwoda', 0.7854021787643433), ('Memeneda', 0.7843155860900879), ('Fida', 0.7775585651397705), ('anadwo', 0.7378968596458435), ('Wukuda', 0.6966943144798279), ('awiabere', 0.6785082817077637), ('dapɛn', 0.6683111786842346), ('nnawɔtwe', 0.6595495343208313)]\n"
     ]
    },
    {
     "name": "stderr",
     "output_type": "stream",
     "text": [
      "/usr/local/lib/python3.6/dist-packages/gensim/matutils.py:737: FutureWarning: Conversion of the second argument of issubdtype from `int` to `np.signedinteger` is deprecated. In future, it will be treated as `np.int64 == np.dtype(int).type`.\n",
      "  if np.issubdtype(vec.dtype, np.int):\n"
     ]
    }
   ],
   "source": [
    "sim_words = word2vec.wv.most_similar('anwummere')\n",
    "print(sim_words)"
   ]
  },
  {
   "cell_type": "markdown",
   "metadata": {
    "colab_type": "text",
    "id": "DyR1i3Mhu3HY"
   },
   "source": [
    "Resut of the fasttext word2vec \n",
    "Finding closest word to 'anummere'"
   ]
  },
  {
   "cell_type": "code",
   "execution_count": 7,
   "metadata": {
    "colab": {
     "base_uri": "https://localhost:8080/",
     "height": 191
    },
    "colab_type": "code",
    "id": "OCJBknZBqZTA",
    "outputId": "a0bfb0eb-fdff-42be-a97f-c27b21da4495"
   },
   "outputs": [
    {
     "name": "stdout",
     "output_type": "stream",
     "text": [
      "('anɔpa', 0.8579288125038147)\n",
      "('Kwasida', 0.8060927987098694)\n",
      "('Dwoda', 0.7854021787643433)\n",
      "('Memeneda', 0.7843155860900879)\n",
      "('Fida', 0.7775585651397705)\n",
      "('anadwo', 0.7378968596458435)\n",
      "('Wukuda', 0.6966943144798279)\n",
      "('awiabere', 0.6785082817077637)\n",
      "('dapɛn', 0.6683111786842346)\n",
      "('nnawɔtwe', 0.6595495343208313)\n"
     ]
    }
   ],
   "source": [
    "for sw in sim_words:\n",
    "    print(sw)"
   ]
  },
  {
   "cell_type": "code",
   "execution_count": null,
   "metadata": {
    "colab": {},
    "colab_type": "code",
    "id": "fawsfqZxqZTO"
   },
   "outputs": [],
   "source": [
    "from gensim.models import FastText\n",
    "model_ted = FastText(data, size=100, window=5, min_count=5, workers=4,sg=1)"
   ]
  },
  {
   "cell_type": "markdown",
   "metadata": {
    "colab_type": "text",
    "id": "hgMbU5ndvS4L"
   },
   "source": [
    "Word vector for 'anwummere' with FastText"
   ]
  },
  {
   "cell_type": "code",
   "execution_count": 11,
   "metadata": {
    "colab": {
     "base_uri": "https://localhost:8080/",
     "height": 312
    },
    "colab_type": "code",
    "id": "TDjQI5fevLlC",
    "outputId": "c34dd78c-f650-4f85-fe06-3276c28a50da"
   },
   "outputs": [
    {
     "name": "stdout",
     "output_type": "stream",
     "text": [
      "[ 0.33047348 -0.7231515  -0.4895336   0.37988523 -0.41798556  0.21306092\n",
      "  0.51588076  0.12112816  0.13552074  0.15992047 -0.6570027  -0.7286779\n",
      "  0.26744652  0.27442786 -0.51321256 -0.23219468 -0.27310863  0.8225729\n",
      " -0.02312779  0.21689506 -0.20006207  0.13696806 -0.20682408 -0.10621846\n",
      "  0.7679993  -0.01980112 -0.00502515  0.03080997  0.15576056  0.8588567\n",
      " -0.03788535 -0.31034368 -0.03619435 -0.04743914  0.71300066 -0.24469627\n",
      " -0.29351032  0.12400845  0.50147325 -0.37942275  0.2763352  -0.249559\n",
      " -0.362449   -0.17039524  0.37524277  0.5495093   0.07987791 -0.1931628\n",
      " -0.30657232  0.8257269  -0.04408398 -0.11042829 -0.5347567  -0.05077847\n",
      "  0.1204204   0.02184095 -0.24842805  0.11524052  0.1470168   0.11596604\n",
      "  0.43883905 -0.3261281   0.07838151 -0.07654913  0.14776114  0.2485389\n",
      "  0.43202984 -0.05032016  0.5790245  -0.32754576  0.03763013  0.07924672\n",
      " -0.12970251  0.0600461   0.5762031   0.83849674  0.04607005 -0.0483852\n",
      "  0.01927654 -0.43777975  0.346919    0.06781873  0.63104016  0.13753171\n",
      " -0.39938748 -0.56066936  0.27164954  0.36539096  0.08819877 -0.33122703\n",
      "  0.05416293  0.40680757 -0.18213144  0.44602922 -0.25431004 -0.21534188\n",
      " -0.00994148 -0.56393975  0.4398681   0.34919885]\n"
     ]
    }
   ],
   "source": [
    "v1 = model_ted.wv['anwummere']\n",
    "print(v1)"
   ]
  },
  {
   "cell_type": "code",
   "execution_count": 9,
   "metadata": {
    "colab": {
     "base_uri": "https://localhost:8080/",
     "height": 72
    },
    "colab_type": "code",
    "id": "FNzt7zHYqZTZ",
    "outputId": "38475db9-e0bb-44b9-a9c1-7539c56c771c"
   },
   "outputs": [
    {
     "name": "stderr",
     "output_type": "stream",
     "text": [
      "/usr/local/lib/python3.6/dist-packages/gensim/matutils.py:737: FutureWarning: Conversion of the second argument of issubdtype from `int` to `np.signedinteger` is deprecated. In future, it will be treated as `np.int64 == np.dtype(int).type`.\n",
      "  if np.issubdtype(vec.dtype, np.int):\n"
     ]
    }
   ],
   "source": [
    "ft_sim_words= model_ted.wv.most_similar(\"anwummere\")"
   ]
  },
  {
   "cell_type": "markdown",
   "metadata": {
    "colab_type": "text",
    "id": "ieSVrCPRulSl"
   },
   "source": [
    "Resut of the word2vec \n",
    "Finding closest word to 'anummere'"
   ]
  },
  {
   "cell_type": "code",
   "execution_count": 10,
   "metadata": {
    "colab": {
     "base_uri": "https://localhost:8080/",
     "height": 191
    },
    "colab_type": "code",
    "id": "oRPaeKfkub8F",
    "outputId": "3a36fae1-185d-4c33-f4b3-18bf8e4e2f9c"
   },
   "outputs": [
    {
     "name": "stdout",
     "output_type": "stream",
     "text": [
      "('anwummerɛ', 0.9298449754714966)\n",
      "('Anwummere', 0.8520162105560303)\n",
      "('anɔpa', 0.8470306992530823)\n",
      "('anɔpawia', 0.7959349155426025)\n",
      "('awiabere', 0.7931784987449646)\n",
      "('Dwoda', 0.7693166136741638)\n",
      "('anɔpahema', 0.757278561592102)\n",
      "('nnɔnnum', 0.7464876174926758)\n",
      "('anwummeduan', 0.7432935237884521)\n",
      "('dapɛn', 0.7391031980514526)\n"
     ]
    }
   ],
   "source": [
    "for sw in ft_sim_words:\n",
    "    print(sw)"
   ]
  },
  {
   "cell_type": "code",
   "execution_count": null,
   "metadata": {
    "colab": {},
    "colab_type": "code",
    "id": "3Sz9KGqgufRF"
   },
   "outputs": [],
   "source": []
  }
 ],
 "metadata": {
  "accelerator": "GPU",
  "colab": {
   "name": "twi_word_embedding.ipynb",
   "provenance": []
  },
  "kernelspec": {
   "display_name": "Python 3",
   "language": "python",
   "name": "python3"
  },
  "language_info": {
   "codemirror_mode": {
    "name": "ipython",
    "version": 3
   },
   "file_extension": ".py",
   "mimetype": "text/x-python",
   "name": "python",
   "nbconvert_exporter": "python",
   "pygments_lexer": "ipython3",
   "version": "3.7.3"
  }
 },
 "nbformat": 4,
 "nbformat_minor": 4
}
