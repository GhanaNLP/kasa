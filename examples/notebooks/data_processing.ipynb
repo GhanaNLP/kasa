{
 "cells": [
  {
   "cell_type": "code",
   "execution_count": 26,
   "metadata": {},
   "outputs": [],
   "source": [
    "#Data Processing\n",
    "import tensorflow as tf\n",
    "import numpy as np\n",
    "import unicodedata\n",
    "import re\n",
    "import os\n",
    "\n",
    "\n",
    "MODE = 'train'\n",
    "BATCH_SIZE = 50\n",
    "EMBEDDING_SIZE = 256\n",
    "LSTM_SIZE = 512\n",
    "NUM_EPOCHS = 300\n",
    "NUMBER_OF_DATASET = 1000\n",
    "\n",
    "\n",
    "def read_dataset(number):\n",
    "\n",
    "    english_data = []\n",
    "    with open('corpus/jw300.en-tw.en') as file:\n",
    "\n",
    "        line = file.readline()\n",
    "        cnt = 1\n",
    "        while line:\n",
    "            english_data.append(line.strip())\n",
    "            line = file.readline()\n",
    "            cnt += 1\n",
    "\n",
    "\n",
    "    twi_data = []\n",
    "    with open('corpus/jw300.en-tw.tw') as file:\n",
    "\n",
    "        # twi=file.read()\n",
    "        line = file.readline()\n",
    "        cnt = 1\n",
    "        while line:\n",
    "            twi_data.append(line.strip())\n",
    "            line = file.readline()\n",
    "            cnt += 1\n",
    "\n",
    "    return english_data[:number],twi_data[:number]\n",
    "    # return english_data,twi_data\n",
    "\n",
    "def unicode_to_ascii(s):\n",
    "    return ''.join(\n",
    "        c for c in unicodedata.normalize('NFD', s)\n",
    "        if unicodedata.category(c) != 'Mn')\n",
    "\n",
    "\n",
    "def normalize_eng(s):\n",
    "    s = unicode_to_ascii(s)\n",
    "    s = re.sub(r'([!.?])', r' \\1', s)\n",
    "    s = re.sub(r'[^a-zA-Z.!?]+', r' ', s)\n",
    "    s = re.sub(r'\\s+', r' ', s)\n",
    "    return s\n",
    "\n",
    "def normalize_twi(s):\n",
    "    s = unicode_to_ascii(s)\n",
    "    s = re.sub(r'([!.?])', r' \\1', s)\n",
    "    s = re.sub(r'[^a-zA-Z.ƆɔɛƐ!?’]+', r' ', s)\n",
    "    s = re.sub(r'\\s+', r' ', s)\n",
    "    return s\n",
    "\n",
    "\n",
    "raw_data_en,raw_data_twi = read_dataset(NUMBER_OF_DATASET)\n",
    "raw_data_en = [normalize_eng(data) for data in raw_data_en]\n",
    "raw_data_twi = [normalize_twi(data) for data in raw_data_twi]\n",
    "raw_data_twi_in = ['<start> ' + normalize_twi(data) for data in raw_data_twi]\n",
    "raw_data_twi_out = [normalize_twi(data) + ' <end>' for data in raw_data_twi]\n"
   ]
  },
  {
   "cell_type": "code",
   "execution_count": 16,
   "metadata": {},
   "outputs": [],
   "source": [
    "# for en in raw_data_en:\n",
    "#     print(en)"
   ]
  },
  {
   "cell_type": "code",
   "execution_count": 27,
   "metadata": {},
   "outputs": [],
   "source": [
    "data=[]\n",
    "for tw in raw_data_twi:\n",
    "#     print(tw)\n",
    "    \n",
    "#     print(tw.split())\n",
    "    data.append(tw.split())"
   ]
  },
  {
   "cell_type": "code",
   "execution_count": 28,
   "metadata": {},
   "outputs": [
    {
     "name": "stdout",
     "output_type": "stream",
     "text": [
      "['Saa', 'bere', 'no', 'na', 'madi', 'mfe', 'asia', '.']\n"
     ]
    }
   ],
   "source": [
    "print(data[10])"
   ]
  },
  {
   "cell_type": "code",
   "execution_count": 29,
   "metadata": {},
   "outputs": [],
   "source": [
    "from gensim.models import Word2Vec\n",
    "\n",
    "word2vec = Word2Vec(data, min_count=2)"
   ]
  },
  {
   "cell_type": "code",
   "execution_count": 30,
   "metadata": {},
   "outputs": [
    {
     "name": "stdout",
     "output_type": "stream",
     "text": [
      "[-0.00252248  0.03079397  0.0175828   0.06205685  0.01452677 -0.069795\n",
      " -0.01821135 -0.1298585  -0.03129691 -0.01193144  0.068725   -0.008453\n",
      " -0.05727864  0.0255999  -0.01280893 -0.03979418 -0.03489417 -0.00806255\n",
      "  0.04162339  0.04513987 -0.00035544 -0.07088217  0.0035704   0.00127852\n",
      " -0.0172159   0.00041469 -0.01493207  0.01220663 -0.01231774  0.00025959\n",
      " -0.03466254  0.03296847  0.00671971  0.0481147  -0.00776079  0.04759003\n",
      " -0.04633167  0.04118149  0.01637685  0.04934707 -0.01343046  0.0049883\n",
      " -0.02528498  0.02455494  0.00369937  0.04688228  0.04521716 -0.02946454\n",
      "  0.1195236   0.02321546 -0.01327301 -0.03929875 -0.01826598  0.0591604\n",
      " -0.02205494 -0.0453     -0.0284757  -0.04402785  0.01287898  0.04620577\n",
      " -0.08280611  0.00476965 -0.00094409  0.03142904 -0.01108269  0.07671114\n",
      "  0.10961767  0.05717654 -0.04066828  0.04234612 -0.02341415  0.07600201\n",
      " -0.12924585 -0.02934707 -0.02918142  0.0304391   0.07960315  0.0596017\n",
      "  0.02074048  0.05565529  0.0006761   0.03204775  0.02378141 -0.01529527\n",
      "  0.03303334 -0.00848307  0.04712946 -0.06356731 -0.05062579  0.00550483\n",
      "  0.00465813  0.0272953  -0.07319539  0.04116303 -0.0944236  -0.02674967\n",
      " -0.03313772 -0.07005012 -0.03607505 -0.02040867]\n"
     ]
    }
   ],
   "source": [
    "v1 = word2vec.wv['anwummere']\n",
    "print(v1)"
   ]
  },
  {
   "cell_type": "code",
   "execution_count": 32,
   "metadata": {},
   "outputs": [
    {
     "name": "stdout",
     "output_type": "stream",
     "text": [
      "[('nsu', 0.9981939792633057), ('nsɛm', 0.9981338977813721), ('nea', 0.998131275177002), ('wɔde', 0.9981201887130737), ('ɛyɛ', 0.9981072545051575), ('fam', 0.9980856776237488), ('dodow', 0.9980844259262085), ('wɔyɛ', 0.9980796575546265), ('bi', 0.9980775117874146), ('saa', 0.9980767965316772)]\n"
     ]
    }
   ],
   "source": [
    "sim_words = word2vec.wv.most_similar('anwummere')\n",
    "print(sim_words)"
   ]
  },
  {
   "cell_type": "code",
   "execution_count": null,
   "metadata": {},
   "outputs": [],
   "source": []
  }
 ],
 "metadata": {
  "kernelspec": {
   "display_name": "Python 3",
   "language": "python",
   "name": "python3"
  },
  "language_info": {
   "codemirror_mode": {
    "name": "ipython",
    "version": 3
   },
   "file_extension": ".py",
   "mimetype": "text/x-python",
   "name": "python",
   "nbconvert_exporter": "python",
   "pygments_lexer": "ipython3",
   "version": "3.7.3"
  }
 },
 "nbformat": 4,
 "nbformat_minor": 4
}
